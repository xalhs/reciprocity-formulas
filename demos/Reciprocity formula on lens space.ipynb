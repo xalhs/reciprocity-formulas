{
 "cells": [
  {
   "cell_type": "code",
   "execution_count": 1,
   "id": "eabcd1b2",
   "metadata": {},
   "outputs": [],
   "source": [
    "import sys"
   ]
  },
  {
   "cell_type": "code",
   "execution_count": 2,
   "id": "ee1c49a5",
   "metadata": {},
   "outputs": [],
   "source": [
    "from sympy import *"
   ]
  },
  {
   "cell_type": "code",
   "execution_count": 3,
   "id": "7fd99c73",
   "metadata": {},
   "outputs": [],
   "source": [
    "sys.path.append('..')"
   ]
  },
  {
   "cell_type": "code",
   "execution_count": 4,
   "id": "796dca0b",
   "metadata": {},
   "outputs": [],
   "source": [
    "from src.reciprocity_formula import reciprocity_formula"
   ]
  },
  {
   "cell_type": "code",
   "execution_count": 6,
   "id": "b1068cb3",
   "metadata": {},
   "outputs": [],
   "source": [
    "from src.misc import linking_mat_of_lens_space"
   ]
  },
  {
   "cell_type": "code",
   "execution_count": 9,
   "id": "6db61c62",
   "metadata": {},
   "outputs": [],
   "source": [
    "L =  linking_mat_of_lens_space(11,4)"
   ]
  },
  {
   "cell_type": "markdown",
   "id": "ed10544c",
   "metadata": {},
   "source": [
    "L\n"
   ]
  },
  {
   "cell_type": "markdown",
   "id": "316bf600",
   "metadata": {},
   "source": [
    "The following computation might take a while"
   ]
  },
  {
   "cell_type": "code",
   "execution_count": 12,
   "id": "bd1ce647",
   "metadata": {},
   "outputs": [
    {
     "name": "stdout",
     "output_type": "stream",
     "text": [
      "0.707106781186549 + 0.707106781186549*I\n",
      "0.707106781186553 + 0.707106781186553*I\n"
     ]
    }
   ],
   "source": [
    "reciprocity_formula(L ,Matrix([[2,1,3] , [1,4,2] , [3,2,0]]))"
   ]
  },
  {
   "cell_type": "markdown",
   "id": "79e410db",
   "metadata": {},
   "source": [
    "An example showing how to generate the linking matrix of a lens space L(p,q) and the reciprocity formula working"
   ]
  }
 ],
 "metadata": {
  "kernelspec": {
   "display_name": "Python 3 (ipykernel)",
   "language": "python",
   "name": "python3"
  },
  "language_info": {
   "codemirror_mode": {
    "name": "ipython",
    "version": 3
   },
   "file_extension": ".py",
   "mimetype": "text/x-python",
   "name": "python",
   "nbconvert_exporter": "python",
   "pygments_lexer": "ipython3",
   "version": "3.7.9"
  }
 },
 "nbformat": 4,
 "nbformat_minor": 5
}
