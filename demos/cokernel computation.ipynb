{
 "cells": [
  {
   "cell_type": "code",
   "execution_count": 18,
   "id": "a29eb488",
   "metadata": {},
   "outputs": [],
   "source": [
    "import sys"
   ]
  },
  {
   "cell_type": "code",
   "execution_count": 23,
   "id": "336d6790",
   "metadata": {},
   "outputs": [],
   "source": [
    "from sympy import *"
   ]
  },
  {
   "cell_type": "code",
   "execution_count": 24,
   "id": "f929d75e",
   "metadata": {},
   "outputs": [],
   "source": [
    "sys.path.append('..')"
   ]
  },
  {
   "cell_type": "code",
   "execution_count": 25,
   "id": "edcc9e42",
   "metadata": {},
   "outputs": [],
   "source": [
    "from src.cokernel import compute_cokernel"
   ]
  },
  {
   "cell_type": "markdown",
   "id": "39cfd8c5",
   "metadata": {},
   "source": [
    "Here we want to compute the cokernel of a matrix, for example the matrix L=\n",
    "(4,2)\n",
    "(2,4)"
   ]
  },
  {
   "cell_type": "code",
   "execution_count": 27,
   "id": "f8bdc8c5",
   "metadata": {},
   "outputs": [
    {
     "data": {
      "text/plain": [
       "[[6, 2],\n",
       " [Matrix([\n",
       "  [1],\n",
       "  [1]]),\n",
       "  Matrix([\n",
       "  [2],\n",
       "  [1]])],\n",
       " Matrix([\n",
       " [1/3, 1/2],\n",
       " [1/2,   1]]),\n",
       " 0,\n",
       " 12]"
      ]
     },
     "execution_count": 27,
     "metadata": {},
     "output_type": "execute_result"
    }
   ],
   "source": [
    "compute_cokernel(Matrix([[4,2],[2,4]]))"
   ]
  },
  {
   "cell_type": "markdown",
   "id": "8ce1c10c",
   "metadata": {},
   "source": [
    "we get a list with 5 elements\n",
    "\n",
    "The first element (in this case [6,2]) is a list of the cyclic groups in the quotient Z^n/L(Z^n). The second element is a list of the generators of these groups (here the vector [1,1] will generate the cyclic group Z/6Z etc.). The third is the linking form in its lowest dimension. The fourth is the corank (dimension minus rank) of the matrix. The last output is the determinant of the \"reduced matrix"
   ]
  },
  {
   "cell_type": "markdown",
   "id": "9f3eaf76",
   "metadata": {},
   "source": []
  }
 ],
 "metadata": {
  "kernelspec": {
   "display_name": "Python 3 (ipykernel)",
   "language": "python",
   "name": "python3"
  },
  "language_info": {
   "codemirror_mode": {
    "name": "ipython",
    "version": 3
   },
   "file_extension": ".py",
   "mimetype": "text/x-python",
   "name": "python",
   "nbconvert_exporter": "python",
   "pygments_lexer": "ipython3",
   "version": "3.7.9"
  }
 },
 "nbformat": 4,
 "nbformat_minor": 5
}
